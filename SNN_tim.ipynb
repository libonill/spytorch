{
  "nbformat": 4,
  "nbformat_minor": 0,
  "metadata": {
    "colab": {
      "name": "SNN_tim.ipynb",
      "provenance": [],
      "include_colab_link": true
    },
    "kernelspec": {
      "display_name": "Python 3",
      "language": "python",
      "name": "python3"
    },
    "language_info": {
      "codemirror_mode": {
        "name": "ipython",
        "version": 3
      },
      "file_extension": ".py",
      "mimetype": "text/x-python",
      "name": "python",
      "nbconvert_exporter": "python",
      "pygments_lexer": "ipython3",
      "version": "3.6.8"
    }
  },
  "cells": [
    {
      "cell_type": "markdown",
      "metadata": {
        "id": "view-in-github",
        "colab_type": "text"
      },
      "source": [
        "<a href=\"https://colab.research.google.com/github/libonill/spytorch/blob/master/SNN_tim.ipynb\" target=\"_parent\"><img src=\"https://colab.research.google.com/assets/colab-badge.svg\" alt=\"Open In Colab\"/></a>"
      ]
    },
    {
      "cell_type": "markdown",
      "metadata": {
        "colab_type": "text",
        "id": "popfWJLSHk_H"
      },
      "source": [
        " \n",
        "\n",
        "1.  We **set** the numbers of input, output, timeStep, batch_size, libraries!\n",
        "\n",
        "\n",
        "\n"
      ]
    },
    {
      "cell_type": "code",
      "metadata": {
        "colab_type": "code",
        "id": "HdribBGRDfcT",
        "colab": {}
      },
      "source": [
        "nb_inputs  = 1\n",
        "nb_outputs = 2"
      ],
      "execution_count": 0,
      "outputs": []
    },
    {
      "cell_type": "code",
      "metadata": {
        "colab_type": "code",
        "id": "LQipVQeTDwDi",
        "colab": {}
      },
      "source": [
        "time_step = 1e-3\n",
        "nb_steps  = 100"
      ],
      "execution_count": 0,
      "outputs": []
    },
    {
      "cell_type": "code",
      "metadata": {
        "colab_type": "code",
        "id": "Xtif6frVD2je",
        "colab": {}
      },
      "source": [
        "batch_size = 2"
      ],
      "execution_count": 0,
      "outputs": []
    },
    {
      "cell_type": "code",
      "metadata": {
        "colab_type": "code",
        "id": "niL8tq9wD7eT",
        "colab": {}
      },
      "source": [
        "import os\n",
        "\n",
        "import numpy as np\n",
        "import matplotlib.pyplot as plt\n",
        "from matplotlib.gridspec import GridSpec\n",
        "import seaborn as sns\n",
        "\n",
        "import torch\n",
        "import torch.nn as nn"
      ],
      "execution_count": 0,
      "outputs": []
    },
    {
      "cell_type": "code",
      "metadata": {
        "colab_type": "code",
        "id": "ozKF18DFEEJf",
        "colab": {}
      },
      "source": [
        "dtype = torch.float\n",
        "device = torch.device(\"cpu\")"
      ],
      "execution_count": 0,
      "outputs": []
    },
    {
      "cell_type": "markdown",
      "metadata": {
        "colab_type": "text",
        "id": "foRPtxZIYJSr"
      },
      "source": [
        "\n",
        "\n",
        "2.   **Creating Data**, tensor batch_size x nb_steps x nb_inputs = 2x100x1\n",
        "\n",
        "\n",
        "\n",
        "\n",
        "\n",
        "\n",
        "\n"
      ]
    },
    {
      "cell_type": "code",
      "metadata": {
        "colab_type": "code",
        "id": "USvAh1wk-v7H",
        "colab": {}
      },
      "source": [
        "x_data = torch.zeros((batch_size,nb_steps,nb_inputs), device=device, dtype=dtype, requires_grad=False)\n",
        "x_data[0][0][0]=1\n",
        "x_data[0][1][0]=1\n",
        "x_data[1][0][0]=1\n",
        "x_data[1][9][0]=1"
      ],
      "execution_count": 0,
      "outputs": []
    },
    {
      "cell_type": "markdown",
      "metadata": {
        "colab_type": "text",
        "id": "d4l_40k-HFcx"
      },
      "source": [
        "\n",
        "\n",
        "*   **Plot** of spike raster of the second input pattern!\n",
        "\n",
        "\n",
        "\n",
        "\n",
        "\n"
      ]
    },
    {
      "cell_type": "code",
      "metadata": {
        "colab_type": "code",
        "id": "BkZdMCjkEP3O",
        "outputId": "43646bce-6d63-4882-ba54-40dbd001d82f",
        "colab": {
          "base_uri": "https://localhost:8080/",
          "height": 279
        }
      },
      "source": [
        "x_id = 1 \n",
        "plt.imshow(x_data[x_id].cpu().t(), cmap=plt.cm.gray_r, aspect=\"auto\")\n",
        "plt.xlabel(\"Time (ms)\")\n",
        "plt.ylabel(\"Unit\")\n",
        "sns.despine()"
      ],
      "execution_count": 0,
      "outputs": [
        {
          "output_type": "display_data",
          "data": {
            "image/png": "[encoded data removed]",
            "text/plain": [
              "<Figure size 432x288 with 1 Axes>"
            ]
          },
          "metadata": {
            "tags": []
          }
        }
      ]
    },
    {
      "cell_type": "code",
      "metadata": {
        "colab_type": "code",
        "id": "Vt6AzYDiphF5",
        "colab": {}
      },
      "source": [
        "# plt.plot(x_data[1])"
      ],
      "execution_count": 0,
      "outputs": []
    },
    {
      "cell_type": "markdown",
      "metadata": {
        "colab_type": "text",
        "id": "O-eS85ndIieB"
      },
      "source": [
        "\n",
        "\n",
        "*  **Label** for the two input patterns\n",
        "\n",
        "\n"
      ]
    },
    {
      "cell_type": "code",
      "metadata": {
        "colab_type": "code",
        "id": "i_VR5O7qF4BZ",
        "colab": {}
      },
      "source": [
        "y_data = torch.tensor([0,1])\n"
      ],
      "execution_count": 0,
      "outputs": []
    },
    {
      "cell_type": "code",
      "metadata": {
        "colab_type": "code",
        "id": "dl0GZsiMEsgV",
        "outputId": "534f4eed-3545-409a-fbf5-9ce070140fb2",
        "colab": {
          "base_uri": "https://localhost:8080/",
          "height": 34
        }
      },
      "source": [
        "y_data.shape"
      ],
      "execution_count": 0,
      "outputs": [
        {
          "output_type": "execute_result",
          "data": {
            "text/plain": [
              "torch.Size([2])"
            ]
          },
          "metadata": {
            "tags": []
          },
          "execution_count": 10
        }
      ]
    },
    {
      "cell_type": "markdown",
      "metadata": {
        "colab_type": "text",
        "id": "Ie1MG98xcs_6"
      },
      "source": [
        "3. **SETUP SNNs model**"
      ]
    },
    {
      "cell_type": "markdown",
      "metadata": {
        "colab_type": "text",
        "id": "IDKO1yppUCTo"
      },
      "source": [
        "*  SETUP OF THE SPIKING NEURAL NETWORK \n",
        "\n",
        "\n",
        "\n",
        "\n",
        " LIF neuron model in discrete time!\n",
        " fix several model constants such as the membrane and the synaptic time constant. alpha and beta!"
      ]
    },
    {
      "cell_type": "code",
      "metadata": {
        "colab_type": "code",
        "id": "tVUTMFtftZVh",
        "outputId": "bf647048-5d58-4655-af4d-e7e401a3946c",
        "colab": {
          "base_uri": "https://localhost:8080/",
          "height": 34
        }
      },
      "source": [
        "#tau_mem = 10e-3\n",
        "#tau_syn = 5e-3\n",
        "\n",
        "alpha   = 0 \n",
        "\n",
        "beta_plastic = torch.empty(nb_outputs,  device=device, dtype=dtype, requires_grad=True)\n",
        "torch.nn.init.normal_(beta_plastic, mean=.9, std=.01)\n",
        "\n"
      ],
      "execution_count": 0,
      "outputs": [
        {
          "output_type": "execute_result",
          "data": {
            "text/plain": [
              "tensor([0.9166, 0.8932], requires_grad=True)"
            ]
          },
          "metadata": {
            "tags": []
          },
          "execution_count": 11
        }
      ]
    },
    {
      "cell_type": "markdown",
      "metadata": {
        "colab_type": "text",
        "id": "G_H0sQ1rS8R7"
      },
      "source": [
        "* Setup **weights matrix** connect the input layer with the output layer. we initialize these weights randomly from a normal distribution! *we scale the variance with the inverse square root of the number of input connections.* The weights can be either excitatory or inhibitory.\n"
      ]
    },
    {
      "cell_type": "code",
      "metadata": {
        "colab_type": "code",
        "id": "xSr6jx9_tmgj",
        "outputId": "4051d8a8-08e0-4a03-dc7c-418e396f37d0",
        "colab": {
          "base_uri": "https://localhost:8080/",
          "height": 34
        }
      },
      "source": [
        "#weight_scale = 7*(1.0-0.9) # this should give us some spikes to begin with\n",
        "\n",
        "\n",
        "w1 = torch.empty((nb_inputs, nb_outputs),  device=device, dtype=dtype, requires_grad=True)\n",
        "torch.nn.init.normal_(w1, mean=1.0, std=.1)\n",
        "\n",
        "#w2 = torch.empty((nb_hidden, nb_outputs), device=device, dtype=dtype, requires_grad=True)\n",
        "#torch.nn.init.normal_(w2, mean=0.0, std=weight_scale/np.sqrt(nb_hidden))\n",
        "\n",
        "#print(\"init done\")\n",
        "w1"
      ],
      "execution_count": 0,
      "outputs": [
        {
          "output_type": "execute_result",
          "data": {
            "text/plain": [
              "tensor([[0.9879, 0.9950]], requires_grad=True)"
            ]
          },
          "metadata": {
            "tags": []
          },
          "execution_count": 12
        }
      ]
    },
    {
      "cell_type": "markdown",
      "metadata": {
        "colab_type": "text",
        "id": "5-RQZ2oqZO0W"
      },
      "source": [
        "4. **AN SPIKING NEURAL NETWORK IN DICRETE TIME**\n",
        "\n",
        "First we multiply all inputs spikes with the weight matrix! We have to do this for each time step in each input example in the batch. We get a tensor 2x100x2"
      ]
    },
    {
      "cell_type": "code",
      "metadata": {
        "colab_type": "code",
        "id": "pQoobKI2rKyZ",
        "colab": {}
      },
      "source": [
        "h1 = torch.einsum(\"abc,cd->abd\", (x_data, w1))\n"
      ],
      "execution_count": 0,
      "outputs": []
    },
    {
      "cell_type": "markdown",
      "metadata": {
        "colab_type": "text",
        "id": "Izp1drCrjUwT"
      },
      "source": [
        "These \"weighted\"input spikes  will now feed into our synaptic variable and ultimately the membrane potential."
      ]
    },
    {
      "cell_type": "markdown",
      "metadata": {
        "colab_type": "text",
        "id": "DviScQ7oqGLR"
      },
      "source": [
        "*  For each trial. We initialize the synaptic currents and membrane potentials at zero.\n",
        "To use our network as a classifier we need to have a **readout layer** on whose output we can define a cost function. \n",
        " \n",
        "we will build the output layer as a population of *leaky integrator neurons*. The reason for this choice is that leaky integration is the natural way of how neurons receive the spiking output of their bretheren. \n",
        "\n",
        "Adding a readout layer...\n",
        "\n"
      ]
    },
    {
      "cell_type": "code",
      "metadata": {
        "colab_type": "code",
        "id": "eBw3xXRJwvq2",
        "colab": {}
      },
      "source": [
        "def run_snn(inputs):\n",
        "    h1 = torch.einsum(\"abc,cd->abd\", (inputs, w1))\n",
        "    \n",
        "    syn = torch.zeros((batch_size,nb_outputs), device=device, dtype=dtype)\n",
        "    out_mem = torch.zeros((batch_size,nb_outputs), device=device, dtype=dtype)\n",
        "    out_mem_rec = [out_mem]\n",
        "    for t in range(nb_steps):\n",
        "        new_syn = alpha*syn +h1[:,t] # synaptic current\n",
        "        new_out_mem = torch.einsum(\"ab,b->ab\", (out_mem,beta_plastic)) +syn #membrane potential\n",
        "        # new_out_mem = .9*out_mem +syn #membrane potential\n",
        "\n",
        "        syn = new_syn\n",
        "        out_mem= new_out_mem\n",
        "\n",
        "        out_mem_rec.append(out_mem) \n",
        "\n",
        "    out_mem_rec = torch.stack(out_mem_rec,dim=1) # stack:Concatenates sequence of tensors along a new dimension. we merge the recorded membrane potentials into a single tensor\n",
        "    return out_mem_rec"
      ],
      "execution_count": 0,
      "outputs": []
    },
    {
      "cell_type": "code",
      "metadata": {
        "colab_type": "code",
        "id": "eiqgkoBdIovD",
        "outputId": "66d8bdf5-9e38-42bd-b857-fd0e66be3059",
        "colab": {
          "base_uri": "https://localhost:8080/",
          "height": 34
        }
      },
      "source": [
        "out_mem_rec = run_snn(x_data)\n",
        "out_mem_rec.shape"
      ],
      "execution_count": 0,
      "outputs": [
        {
          "output_type": "execute_result",
          "data": {
            "text/plain": [
              "torch.Size([2, 101, 2])"
            ]
          },
          "metadata": {
            "tags": []
          },
          "execution_count": 15
        }
      ]
    },
    {
      "cell_type": "markdown",
      "metadata": {
        "colab_type": "text",
        "id": "DVXuJINOLQEi"
      },
      "source": [
        "* Plot the membrane potencial "
      ]
    },
    {
      "cell_type": "code",
      "metadata": {
        "colab_type": "code",
        "id": "ZO45Y0O8IDmc",
        "colab": {}
      },
      "source": [
        "def plot_voltage_traces(mem, spk=None, dim=(1,2), spike_height=5):\n",
        "    gs=GridSpec(*dim)\n",
        "    if spk is not None:\n",
        "        dat = (mem+spike_height*spk).detach().cpu().numpy()\n",
        "    else:\n",
        "        dat = mem.detach().cpu().numpy()\n",
        "    for i in range(np.prod(dim)):\n",
        "        if i==0: a0=ax=plt.subplot(gs[i])\n",
        "        else: ax=plt.subplot(gs[i],sharey=a0)\n",
        "        ax.plot(dat[i])\n",
        "        ax.axis(\"off\")"
      ],
      "execution_count": 0,
      "outputs": []
    },
    {
      "cell_type": "code",
      "metadata": {
        "colab_type": "code",
        "id": "EnbNAWEpIFAR",
        "outputId": "8e83bbcb-9d82-439a-b8ae-28220e66e496",
        "colab": {
          "base_uri": "https://localhost:8080/",
          "height": 339
        }
      },
      "source": [
        "fig=plt.figure(dpi=100)\n",
        "plot_voltage_traces(out_mem_rec)"
      ],
      "execution_count": 0,
      "outputs": [
        {
          "output_type": "display_data",
          "data": {
            "image/png": "[encoded data removed]",
            "text/plain": [
              "<Figure size 600x400 with 2 Axes>"
            ]
          },
          "metadata": {
            "tags": []
          }
        }
      ]
    },
    {
      "cell_type": "code",
      "metadata": {
        "colab_type": "code",
        "id": "X88ccQssy8Pr",
        "outputId": "368ad5d9-6bc3-45fd-d1f8-176b7d91dc0a",
        "colab": {
          "base_uri": "https://localhost:8080/",
          "height": 34
        }
      },
      "source": [
        "def print_classification_accuracy():\n",
        "    output= run_snn(x_data)\n",
        "    m,_= torch.max(output,1) # max over time\n",
        "    _,am=torch.max(m,1) # argmax over output units\n",
        "    acc = np.mean((y_data==am).detach().cpu().numpy()) # compare to labels\n",
        "    print(\"Accuracy %.3f\"%acc)\n",
        "    \n",
        "print_classification_accuracy()"
      ],
      "execution_count": 0,
      "outputs": [
        {
          "output_type": "stream",
          "text": [
            "Accuracy 0.500\n"
          ],
          "name": "stdout"
        }
      ]
    },
    {
      "cell_type": "markdown",
      "metadata": {
        "colab_type": "text",
        "id": "wAFeWSgLnjep"
      },
      "source": [
        "---------------------------------------------------------This is practice--------------------------------------------------------------------------"
      ]
    },
    {
      "cell_type": "code",
      "metadata": {
        "colab_type": "code",
        "id": "MiyOmn5xgiau",
        "outputId": "5ae841e6-95f5-450b-9091-c34b52bd7030",
        "colab": {
          "base_uri": "https://localhost:8080/",
          "height": 34
        }
      },
      "source": [
        "w1"
      ],
      "execution_count": 0,
      "outputs": [
        {
          "output_type": "execute_result",
          "data": {
            "text/plain": [
              "tensor([[0.9034, 1.1073]], requires_grad=True)"
            ]
          },
          "metadata": {
            "tags": []
          },
          "execution_count": 19
        }
      ]
    },
    {
      "cell_type": "markdown",
      "metadata": {
        "colab_type": "text",
        "id": "i_T3AdMPT735"
      },
      "source": [
        "--------------------------------------------------------------------------------"
      ]
    },
    {
      "cell_type": "markdown",
      "metadata": {
        "colab_type": "text",
        "id": "u403yApW-SO4"
      },
      "source": [
        "5. **SUPERVISED LEARNING**"
      ]
    },
    {
      "cell_type": "code",
      "metadata": {
        "colab_type": "code",
        "id": "CZggclq7-RbB",
        "colab": {}
      },
      "source": [
        "\n",
        "#params = [w1] # The paramters we want to optimize\n",
        "params = [w1,beta_plastic] # The paramters we want to optimize\n",
        "\n",
        "optimizer = torch.optim.Adam(params, lr=2e-3, betas=(0.9,0.999)) # The optimizer we are going to use\n",
        "\n",
        "log_softmax_fn = nn.LogSoftmax(dim=1) # The log softmax function across output units\n",
        "loss_fn = nn.NLLLoss() # The negative log likelihood loss function\n",
        "\n",
        "# The optimization loop\n",
        "loss_hist = []\n",
        "for e in range(1000):\n",
        "    # run the network and get output\n",
        "    output = run_snn(x_data) \n",
        "    # compute the loss\n",
        "    m,_=torch.max(output,1)\n",
        "    log_p_y = log_softmax_fn(m) \n",
        "    loss_val = loss_fn(log_p_y, y_data)\n",
        "\n",
        "    # update the weights\n",
        "    optimizer.zero_grad() #backward()function accumulates gradients, Not to mix up gradients between minibatches. Have to zero them out at the start of a new minibatch. \n",
        "    loss_val.backward() # Gradients\n",
        "    optimizer.step() #method that update the parameters\n",
        "    \n",
        "    # store loss value\n",
        "    loss_hist.append(loss_val.item())\n",
        "    \n",
        "    beta_plastic.data.clamp_(0.,1.)\n",
        "    \n",
        "loss_hist_true_grad = loss_hist # store for later use"
      ],
      "execution_count": 0,
      "outputs": []
    },
    {
      "cell_type": "code",
      "metadata": {
        "colab_type": "code",
        "id": "CvUZ12ndyj6N",
        "outputId": "e794e349-b4f4-41c5-9e1d-7f531502f0c4",
        "colab": {
          "base_uri": "https://localhost:8080/",
          "height": 279
        }
      },
      "source": [
        "\n",
        "plt.plot(loss_hist)\n",
        "plt.xlabel(\"Epoch\")\n",
        "plt.ylabel(\"Loss\")\n",
        "sns.despine()"
      ],
      "execution_count": 0,
      "outputs": [
        {
          "output_type": "display_data",
          "data": {
            "image/png": "[encoded data removed]",
            "text/plain": [
              "<Figure size 432x288 with 1 Axes>"
            ]
          },
          "metadata": {
            "tags": []
          }
        }
      ]
    },
    {
      "cell_type": "code",
      "metadata": {
        "colab_type": "code",
        "id": "1Z9b7uQPzG34",
        "outputId": "813da524-dd05-451e-f8f7-2dd64b0f9d27",
        "colab": {
          "base_uri": "https://localhost:8080/",
          "height": 34
        }
      },
      "source": [
        "print_classification_accuracy()"
      ],
      "execution_count": 0,
      "outputs": [
        {
          "output_type": "stream",
          "text": [
            "Accuracy 1.000\n"
          ],
          "name": "stdout"
        }
      ]
    },
    {
      "cell_type": "markdown",
      "metadata": {
        "colab_type": "text",
        "id": "sVX84o2ZbN4X"
      },
      "source": [
        "6. **OPTIMIZING THE TIME SCALES**"
      ]
    },
    {
      "cell_type": "code",
      "metadata": {
        "id": "Imk-22eZkbFN",
        "colab_type": "code",
        "outputId": "cd1573d8-2348-4442-a2e9-bb03e60f4aaf",
        "colab": {
          "base_uri": "https://localhost:8080/",
          "height": 34
        }
      },
      "source": [
        "beta_plastic\n"
      ],
      "execution_count": 0,
      "outputs": [
        {
          "output_type": "execute_result",
          "data": {
            "text/plain": [
              "tensor([0.7544, 1.0000], requires_grad=True)"
            ]
          },
          "metadata": {
            "tags": []
          },
          "execution_count": 22
        }
      ]
    },
    {
      "cell_type": "code",
      "metadata": {
        "id": "w0kIA7MbkbFT",
        "colab_type": "code",
        "outputId": "b6733059-ae6b-434e-91d4-f861926777e4",
        "colab": {}
      },
      "source": [
        "w1"
      ],
      "execution_count": 0,
      "outputs": [
        {
          "output_type": "execute_result",
          "data": {
            "text/plain": [
              "tensor([[2.2227, 1.5311]], requires_grad=True)"
            ]
          },
          "metadata": {
            "tags": []
          },
          "execution_count": 24
        }
      ]
    },
    {
      "cell_type": "code",
      "metadata": {
        "id": "LinLH9RlkbFa",
        "colab_type": "code",
        "outputId": "53c69f78-098a-4811-e1b6-cb6d04c6ab8b",
        "colab": {
          "base_uri": "https://localhost:8080/",
          "height": 339
        }
      },
      "source": [
        "out_mem_rec = run_snn(x_data)\n",
        "out_mem_rec.shape\n",
        "fig=plt.figure(dpi=100)\n",
        "plot_voltage_traces(out_mem_rec)"
      ],
      "execution_count": 0,
      "outputs": [
        {
          "output_type": "display_data",
          "data": {
            "image/png": "[encoded data removed]",
            "text/plain": [
              "<Figure size 600x400 with 2 Axes>"
            ]
          },
          "metadata": {
            "tags": []
          }
        }
      ]
    },
    {
      "cell_type": "code",
      "metadata": {
        "id": "4iaaSvck34Eu",
        "colab_type": "code",
        "outputId": "594b0e47-ed46-4981-9e6f-4208c9c79119",
        "colab": {
          "base_uri": "https://localhost:8080/",
          "height": 34
        }
      },
      "source": [
        "out_mem_rec.shape"
      ],
      "execution_count": 0,
      "outputs": [
        {
          "output_type": "execute_result",
          "data": {
            "text/plain": [
              "torch.Size([2, 101, 2])"
            ]
          },
          "metadata": {
            "tags": []
          },
          "execution_count": 24
        }
      ]
    }
  ]
}